{
 "cells": [
  {
   "cell_type": "code",
   "execution_count": 4,
   "metadata": {},
   "outputs": [],
   "source": [
    "import urllib.request\n",
    "from pprint import pprint\n",
    "from html_table_parser.parser import HTMLTableParser\n",
    "import pandas as pd\n",
    "import seaborn as sns\n",
    "import plotly.express as px"
   ]
  },
  {
   "cell_type": "code",
   "execution_count": 24,
   "metadata": {},
   "outputs": [],
   "source": [
    "def url_get_contents(url):\n",
    " \n",
    "    # Opens a website and read its\n",
    "    # binary contents (HTTP Response Body)\n",
    " \n",
    "    #making request to the website\n",
    "    hdr = {'User-Agent':'Mozilla/5.0'}\n",
    "    req = urllib.request.Request(url=url, headers=hdr)\n",
    "    f = urllib.request.urlopen(req)\n",
    " \n",
    "    #reading contents of the website\n",
    "    return f.read()"
   ]
  },
  {
   "cell_type": "code",
   "execution_count": 249,
   "metadata": {},
   "outputs": [],
   "source": [
    "link = 'https://en.wikipedia.org/wiki/2020%E2%80%9321_Arsenal_F.C._season'\n",
    "xhtml = url_get_contents(link).decode('utf-8')"
   ]
  },
  {
   "cell_type": "code",
   "execution_count": 250,
   "metadata": {},
   "outputs": [],
   "source": [
    "p = HTMLTableParser()\n",
    "p.feed(xhtml)"
   ]
  },
  {
   "cell_type": "code",
   "execution_count": 251,
   "metadata": {},
   "outputs": [
    {
     "data": {
      "text/plain": [
       "91"
      ]
     },
     "execution_count": 251,
     "metadata": {},
     "output_type": "execute_result"
    }
   ],
   "source": [
    "len(p.tables)"
   ]
  },
  {
   "cell_type": "code",
   "execution_count": 253,
   "metadata": {},
   "outputs": [
    {
     "data": {
      "text/plain": [
       "0     [12 September 2020  1, Fulham, 0–3, Arsenal, F...\n",
       "1     [19 September 2020  2, Arsenal, 2–1, West Ham ...\n",
       "2     [28 September 2020  3, Liverpool, 3–1, Arsenal...\n",
       "3     [4 October 2020  4, Arsenal, 2–1, Sheffield Un...\n",
       "4     [17 October 2020  5, Manchester City, 1–0, Ars...\n",
       "5     [25 October 2020  6, Arsenal, 0–1, Leicester C...\n",
       "6     [1 November 2020  7, Manchester United, 0–1, A...\n",
       "7     [8 November 2020  8, Arsenal, 0–3, Aston Villa...\n",
       "8     [22 November 2020  9, Leeds United, 0–0, Arsen...\n",
       "9     [29 November 2020  10, Arsenal, 1–2, Wolverham...\n",
       "10    [6 December 2020  11, Tottenham Hotspur, 2–0, ...\n",
       "11    [13 December 2020  12, Arsenal, 0–1, Burnley, ...\n",
       "12    [16 December 2020  13, Arsenal, 1–1, Southampt...\n",
       "13    [19 December 2020  14, Everton, 2–1, Arsenal, ...\n",
       "14    [26 December 2020  15, Arsenal, 3–1, Chelsea, ...\n",
       "15    [29 December 2020  16, Brighton Hove Albion, 0...\n",
       "16    [2 January 2021  17, West Bromwich Albion, 0–4...\n",
       "17    [14 January 2021  18, Arsenal, 0–0, Crystal Pa...\n",
       "18    [18 January 2021  19, Arsenal, 3–0, Newcastle ...\n",
       "19    [26 January 2021  20, Southampton, 1–3, Arsena...\n",
       "20    [30 January 2021  21, Arsenal, 0–0, Manchester...\n",
       "21    [2 February 2021  22, Wolverhampton Wanderers,...\n",
       "22    [6 February 2021  23, Aston Villa, 1–0, Arsena...\n",
       "23    [14 February 2021  24, Arsenal, 4–2, Leeds Uni...\n",
       "24    [21 February 2021  25, Arsenal, 0–1, Mancheste...\n",
       "25    [28 February 2021  26, Leicester City, 1–3, Ar...\n",
       "26    [6 March 2021  27, Burnley, 1–1, Arsenal, Burn...\n",
       "27    [14 March 2021  28, Arsenal, 2–1, Tottenham Ho...\n",
       "28    [21 March 2021  29, West Ham United, 3–3, Arse...\n",
       "29    [3 April 2021  30, Arsenal, 0–3, Liverpool, Ho...\n",
       "30    [11 April 2021  31, Sheffield United, 0–3, Ars...\n",
       "31    [18 April 2021  32, Arsenal, 1–1, Fulham, Holl...\n",
       "32    [23 April 2021  33, Arsenal, 0–1, Everton, Hol...\n",
       "33    [2 May 2021  34, Newcastle United, 0–2, Arsena...\n",
       "34    [9 May 2021  35, Arsenal, 3–1, West Bromwich A...\n",
       "35     [12 May 2021  36, Chelsea, 0–1, Arsenal, Fulham]\n",
       "36    [19 May 2021  37, Crystal Palace, 1–3, Arsenal...\n",
       "37    [23 May 2021  38, Arsenal, 2–0, Brighton Hove ...\n",
       "Name: 0, dtype: object"
      ]
     },
     "execution_count": 253,
     "metadata": {},
     "output_type": "execute_result"
    }
   ],
   "source": [
    "df = pd.DataFrame(p.tables[(64-38-11):(64-11)])\n",
    "df[0]"
   ]
  },
  {
   "cell_type": "code",
   "execution_count": 254,
   "metadata": {},
   "outputs": [],
   "source": [
    "def pro_df(df, team):\n",
    "    df['date'] = [x[0] for x in df[0]]\n",
    "    df['home'] = [x[1].lower() for x in df[0]]\n",
    "    df['score'] = [x[2] for x in df[0]]\n",
    "    df['away'] = [x[3].lower() for x in df[0]]\n",
    "    df['referee'] = [(' ').join(x[4].split(' ')[-2:]) for x in df[1]]\n",
    "    df['points'] = 0\n",
    "    \n",
    "    for i in range(0, df.shape[0]):\n",
    "        \n",
    "        [x1, x2] = df['score'].iloc[i].split('–') \n",
    "        [x1, x2] = [int(x1), int(x2)]\n",
    "        \n",
    "        if (team == df['home'].iloc[i] and x1 > x2) or (team == df['away'].iloc[i] and x2 > x1):\n",
    "            df['points'].iloc[i] = 3\n",
    "        elif x1 == x2:\n",
    "            df['points'].iloc[i] = 1\n",
    "        else:\n",
    "            df['points'].iloc[i] = 0\n",
    "         \n",
    "    \n",
    "    return df"
   ]
  },
  {
   "cell_type": "code",
   "execution_count": 255,
   "metadata": {},
   "outputs": [],
   "source": [
    "df = pro_df(df, \"arsenal\")"
   ]
  },
  {
   "cell_type": "code",
   "execution_count": 256,
   "metadata": {},
   "outputs": [],
   "source": [
    "df_main = df_main.append(df)\n",
    "df_use = df_main[['date','home','score','away','points','referee']]"
   ]
  },
  {
   "cell_type": "code",
   "execution_count": 264,
   "metadata": {},
   "outputs": [],
   "source": [
    "df_use.index = list(range(0, df_use.shape[0]))"
   ]
  },
  {
   "cell_type": "code",
   "execution_count": 273,
   "metadata": {},
   "outputs": [
    {
     "name": "stderr",
     "output_type": "stream",
     "text": [
      "<ipython-input-273-8fe7fe7eecee>:1: SettingWithCopyWarning: \n",
      "A value is trying to be set on a copy of a slice from a DataFrame.\n",
      "Try using .loc[row_indexer,col_indexer] = value instead\n",
      "\n",
      "See the caveats in the documentation: https://pandas.pydata.org/pandas-docs/stable/user_guide/indexing.html#returning-a-view-versus-a-copy\n",
      "  df_use['date_col'] = [pd.to_datetime((' ').join(x.split(' ')[0:3])) for x in df_use['date']]\n"
     ]
    }
   ],
   "source": [
    "df_use['date_col'] = [pd.to_datetime((' ').join(x.split(' ')[0:3])) for x in df_use['date']]"
   ]
  },
  {
   "cell_type": "code",
   "execution_count": 278,
   "metadata": {},
   "outputs": [],
   "source": [
    "def home_adv(x, team):\n",
    "    if x == team:\n",
    "        return 1\n",
    "    else:\n",
    "        return 0"
   ]
  },
  {
   "cell_type": "code",
   "execution_count": 282,
   "metadata": {},
   "outputs": [
    {
     "name": "stderr",
     "output_type": "stream",
     "text": [
      "<ipython-input-282-f61d5d46c05f>:1: SettingWithCopyWarning: \n",
      "A value is trying to be set on a copy of a slice from a DataFrame.\n",
      "Try using .loc[row_indexer,col_indexer] = value instead\n",
      "\n",
      "See the caveats in the documentation: https://pandas.pydata.org/pandas-docs/stable/user_guide/indexing.html#returning-a-view-versus-a-copy\n",
      "  df_use['home-adv'] = 0\n",
      "<ipython-input-282-f61d5d46c05f>:2: SettingWithCopyWarning: \n",
      "A value is trying to be set on a copy of a slice from a DataFrame.\n",
      "Try using .loc[row_indexer,col_indexer] = value instead\n",
      "\n",
      "See the caveats in the documentation: https://pandas.pydata.org/pandas-docs/stable/user_guide/indexing.html#returning-a-view-versus-a-copy\n",
      "  df_use['home-adv'] = df_use['home'].apply(lambda x: home_adv(x, 'arsenal'))\n"
     ]
    }
   ],
   "source": [
    "df_use['home-adv'] = 0\n",
    "df_use['home-adv'] = df_use['home'].apply(lambda x: home_adv(x, 'arsenal'))"
   ]
  },
  {
   "cell_type": "code",
   "execution_count": 284,
   "metadata": {},
   "outputs": [],
   "source": [
    "df_final = df_use.copy()"
   ]
  },
  {
   "cell_type": "code",
   "execution_count": 317,
   "metadata": {},
   "outputs": [],
   "source": [
    "df_final = df_final[['date_col', 'home', 'away', 'score', 'points', 'home-adv', 'referee']]"
   ]
  },
  {
   "cell_type": "code",
   "execution_count": 309,
   "metadata": {},
   "outputs": [
    {
     "name": "stderr",
     "output_type": "stream",
     "text": [
      "C:\\Users\\vishn\\anaconda3\\lib\\site-packages\\pandas\\core\\indexing.py:670: SettingWithCopyWarning: \n",
      "A value is trying to be set on a copy of a slice from a DataFrame\n",
      "\n",
      "See the caveats in the documentation: https://pandas.pydata.org/pandas-docs/stable/user_guide/indexing.html#returning-a-view-versus-a-copy\n",
      "  iloc._setitem_with_indexer(indexer, value)\n"
     ]
    }
   ],
   "source": [
    "def get_GD(df):\n",
    "    \n",
    "    for i in range(0, df.shape[0]):\n",
    "        [x1, x2] = df['score'].iloc[i].split('–') \n",
    "        [x1, x2] = [int(x1), int(x2)]\n",
    "        \n",
    "        if df['points'].iloc[i] == 3:\n",
    "            df['GD'].iloc[i] = "
   ]
  },
  {
   "cell_type": "code",
   "execution_count": 318,
   "metadata": {},
   "outputs": [],
   "source": [
    "df_final.to_csv('prem-arsenal.csv', index=None)"
   ]
  },
  {
   "cell_type": "markdown",
   "metadata": {},
   "source": [
    "## Plotting"
   ]
  },
  {
   "cell_type": "code",
   "execution_count": null,
   "metadata": {},
   "outputs": [],
   "source": []
  },
  {
   "cell_type": "code",
   "execution_count": 3,
   "metadata": {},
   "outputs": [],
   "source": [
    "df_ar = pd.read_csv('prem-arsenal.csv')"
   ]
  },
  {
   "cell_type": "code",
   "execution_count": 24,
   "metadata": {},
   "outputs": [],
   "source": [
    "sns.set(rc={'figure.figsize':(25, 15)})"
   ]
  },
  {
   "cell_type": "code",
   "execution_count": 26,
   "metadata": {},
   "outputs": [],
   "source": [
    "# sns.countplot(df_ar['referee'])"
   ]
  },
  {
   "cell_type": "code",
   "execution_count": 16,
   "metadata": {},
   "outputs": [],
   "source": [
    "fig = px.pie(df_ar, values='points', names='referee', title='Points earned vs Referees', hover_data=['referee'])\n",
    "fig.write_html(\"f1.html\")"
   ]
  },
  {
   "cell_type": "code",
   "execution_count": 18,
   "metadata": {},
   "outputs": [],
   "source": [
    "fig = px.pie(df_ar, values='points', names='home-adv', title=\"Points earned vs home-advantage\")\n",
    "fig.write_html(\"f2.html\")"
   ]
  },
  {
   "cell_type": "code",
   "execution_count": 28,
   "metadata": {},
   "outputs": [],
   "source": [
    "fig = px.histogram(df_ar, x='referee')\n",
    "fig.write_html('f3.html')"
   ]
  },
  {
   "cell_type": "code",
   "execution_count": null,
   "metadata": {},
   "outputs": [],
   "source": []
  }
 ],
 "metadata": {
  "kernelspec": {
   "display_name": "Python 3",
   "language": "python",
   "name": "python3"
  },
  "language_info": {
   "codemirror_mode": {
    "name": "ipython",
    "version": 3
   },
   "file_extension": ".py",
   "mimetype": "text/x-python",
   "name": "python",
   "nbconvert_exporter": "python",
   "pygments_lexer": "ipython3",
   "version": "3.8.5"
  }
 },
 "nbformat": 4,
 "nbformat_minor": 4
}
